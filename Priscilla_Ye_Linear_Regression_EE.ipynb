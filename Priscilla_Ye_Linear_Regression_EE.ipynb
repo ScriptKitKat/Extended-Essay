{
  "nbformat": 4,
  "nbformat_minor": 0,
  "metadata": {
    "colab": {
      "provenance": []
    },
    "kernelspec": {
      "name": "python3",
      "display_name": "Python 3"
    },
    "language_info": {
      "name": "python"
    }
  },
  "cells": [
    {
      "cell_type": "code",
      "execution_count": null,
      "metadata": {
        "id": "NTtL2clxpTHT"
      },
      "outputs": [],
      "source": [
        "import numpy as np\n",
        "import matplotlib.pyplot as plt"
      ]
    },
    {
      "cell_type": "code",
      "source": [],
      "metadata": {
        "id": "Gm8xAohoOOl8"
      },
      "execution_count": null,
      "outputs": []
    },
    {
      "cell_type": "code",
      "source": [
        "temperature = np.array([14, 18, 21, 30, 38])\n",
        "num_students = np.array([15, 27, 34, 38, 52])\n",
        "\n",
        "# Array of amount of ice cream sold; price from temperature and students\n",
        "sold = np.array([2, 5, 14, 16, 26])\n",
        "\n",
        "# Stack features together\n",
        "X = np.column_stack((temperature, num_students))\n",
        "y = sold\n",
        "X"
      ],
      "metadata": {
        "id": "rNdX-p6dpgEk",
        "colab": {
          "base_uri": "https://localhost:8080/"
        },
        "outputId": "3ce8dc35-a48b-47e7-c876-360d0b762a81"
      },
      "execution_count": null,
      "outputs": [
        {
          "output_type": "execute_result",
          "data": {
            "text/plain": [
              "array([[14, 15],\n",
              "       [18, 27],\n",
              "       [21, 34],\n",
              "       [30, 38],\n",
              "       [38, 52]])"
            ]
          },
          "metadata": {},
          "execution_count": 76
        }
      ]
    },
    {
      "cell_type": "code",
      "source": [
        "np.random.seed(42)\n",
        "theta = np.random.rand(X.shape[1] + 1) # Parameters for each feature and the intercept\n",
        "alpha = 0.001  # Learning rate\n",
        "iterations = 10000  # Number of iterations"
      ],
      "metadata": {
        "id": "FagQ945epiCs"
      },
      "execution_count": null,
      "outputs": []
    },
    {
      "cell_type": "code",
      "source": [
        "def compute_cost(X, y, theta):\n",
        "    m = len(y)\n",
        "    predictions = X.dot(theta)\n",
        "\n",
        "    cost = (1/m) * np.mean((predictions - y) ** 2) / 2\n",
        "    return cost"
      ],
      "metadata": {
        "id": "rNuwZRSWprPN"
      },
      "execution_count": null,
      "outputs": []
    },
    {
      "cell_type": "code",
      "source": [
        "def gradient_descent(X, y, theta, alpha, num_iters, tolerance=1e-3):\n",
        "    m = len(y)\n",
        "    n = len(theta)\n",
        "    J_history = []\n",
        "\n",
        "    for i in range(num_iters):\n",
        "        predictions = []\n",
        "        for j in range(m):\n",
        "            prediction = 0\n",
        "            for k in range(n):\n",
        "                prediction += theta[k] * X[j][k]\n",
        "            predictions.append(prediction)\n",
        "\n",
        "        errors = [predictions[j] - y[j] for j in range(m)]\n",
        "\n",
        "        derivative = [0] * n\n",
        "        for k in range(n):\n",
        "            sum_errors = 0\n",
        "            for j in range(m):\n",
        "              sum_errors += errors[j]*X[j][k]\n",
        "            derivative[k] = (1 / m) * sum_errors\n",
        "\n",
        "        step_size = 0\n",
        "        for k in range(n):\n",
        "            step = alpha * derivative[k]\n",
        "            theta[k] -= step\n",
        "            step_size += step**2\n",
        "\n",
        "        step_size_norm = step_size**0.5\n",
        "\n",
        "        if step_size_norm < tolerance:\n",
        "          print(f\"Stopping early at iteration {i}\")\n",
        "          break\n",
        "\n",
        "        cost = compute_cost(X, y, theta)\n",
        "        if (i == 1 or i %100 == 0):\n",
        "          print(f\"cost: {cost}, iteration: {i}\")\n",
        "        J_history.append(cost)\n",
        "\n",
        "    return theta, J_history\n"
      ],
      "metadata": {
        "id": "0LYRgT0wprnu"
      },
      "execution_count": null,
      "outputs": []
    },
    {
      "cell_type": "code",
      "source": [
        "def newton_descent(X, y, theta, alpha, num_iters, tolerance=1e-3):\n",
        "    m = len(y)\n",
        "    n = len(theta)\n",
        "    J_history = []\n",
        "\n",
        "    for i in range(num_iters):\n",
        "        predictions = []\n",
        "        for j in range(m):\n",
        "            prediction = sum(theta[k] * X[j][k] for k in range(n))\n",
        "            predictions.append(prediction)\n",
        "\n",
        "        errors = [predictions[j] - y[j] for j in range(m)]\n",
        "\n",
        "        gradient = [0] * n\n",
        "        for k in range(n):\n",
        "            sum_errors = sum(errors[j] * X[j][k] for j in range(m))\n",
        "            gradient[k] = (1 / m) * sum_errors\n",
        "\n",
        "        hessian = [[0] * n for _ in range(n)]\n",
        "        for k1 in range(n):\n",
        "            for k2 in range(n):\n",
        "                sum_second_derivatives = sum(X[j][k1] * X[j][k2] for j in range(m))\n",
        "                hessian[k1][k2] = (1 / m) * sum_second_derivatives\n",
        "\n",
        "        hessian_inv = np.linalg.inv(hessian)  # Inverting Hessian\n",
        "        step_direction = np.dot(hessian_inv, gradient)\n",
        "\n",
        "        # Update theta\n",
        "        for k in range(n):\n",
        "            theta[k] -= alpha * step_direction[k]\n",
        "\n",
        "        step_size_squared = sum(step_direction[k] ** 2 for k in range(n))\n",
        "        step_size = step_size_squared ** 0.5\n",
        "\n",
        "        cost = compute_cost(X, y, theta)\n",
        "        if (i%100 == 0 or i == 1):\n",
        "          print(f\"Iteration {i}, Cost: {cost}\")\n",
        "\n",
        "        if step_size < tolerance:\n",
        "            print(f\"Stopping early at iteration {i}, Step size: {step_size:.6f}, cost: {cost}\")\n",
        "            break\n",
        "\n",
        "        J_history.append(cost)\n",
        "\n",
        "    return theta, J_history\n"
      ],
      "metadata": {
        "id": "S6_AlvCzQF62"
      },
      "execution_count": null,
      "outputs": []
    },
    {
      "cell_type": "code",
      "source": [
        "# Assuming X, y, theta, alpha, and iterations are already defined\n",
        "\n",
        "# Add intercept term to X\n",
        "X_bias = np.hstack([np.ones((X.shape[0], 1)), X])\n",
        "\n",
        "# Run gradient descent\n",
        "print(\"Vanilla:\")\n",
        "final_theta, J_history = gradient_descent(X_bias, y, theta, alpha, iterations)\n",
        "print(\"Newton's:\")\n",
        "final_theta2, J_history2 = newton_descent(X_bias, y, theta, 0.01, iterations)\n",
        "\n",
        "\n",
        "# Print the final theta values\n",
        "print(\"final theta! \", [\"{:.2f}\".format(t) for t in final_theta])\n",
        "\n",
        "# Plot the convergence of the cost function\n",
        "plt.figure(figsize=(8, 5))\n",
        "plt.plot(J_history, label=\"Vanilla\")\n",
        "plt.plot(J_history2, label=\"Newtons\")\n",
        "plt.title('Convergence of Cost Function')\n",
        "plt.xlabel('Iterations')\n",
        "plt.ylabel('Cost')\n",
        "plt.legend()\n",
        "plt.grid(True)\n",
        "plt.show()\n",
        "\n",
        "# Select 3 random examples for comparison\n",
        "num_examples = 3\n",
        "random_indices = np.random.choice(X_bias.shape[0], num_examples, replace=False)\n",
        "\n",
        "print(\"\\nRandom Examples for Comparison:\")\n",
        "for idx in random_indices:\n",
        "    X_example = X_bias[idx]\n",
        "    y_actual = y[idx]\n",
        "    y_pred = np.dot(X_example, final_theta)\n",
        "    print(f\"Example {idx + 1}:\")\n",
        "    print(f\"Features (including intercept): {X_example}\")\n",
        "    print(f\"Actual value: {y_actual}\")\n",
        "    print(f\"Predicted value: {y_pred}\\n\")\n"
      ],
      "metadata": {
        "colab": {
          "base_uri": "https://localhost:8080/",
          "height": 1000
        },
        "id": "-alE2U8qpr22",
        "outputId": "20831cfc-3aae-42c4-92b6-b337dc6be4b8"
      },
      "execution_count": null,
      "outputs": [
        {
          "output_type": "stream",
          "name": "stdout",
          "text": [
            "Vanilla:\n",
            "cost: 108.54492740251834, iteration: 0\n",
            "cost: 90.05937612200285, iteration: 1\n",
            "cost: 1.6448610830252812, iteration: 100\n",
            "cost: 1.5739174310474062, iteration: 200\n",
            "cost: 1.5271756825847889, iteration: 300\n",
            "cost: 1.4913207196605525, iteration: 400\n",
            "cost: 1.4605512918036465, iteration: 500\n",
            "cost: 1.4323354040638658, iteration: 600\n",
            "cost: 1.405563712223523, iteration: 700\n",
            "cost: 1.379746048850527, iteration: 800\n",
            "cost: 1.354661822589354, iteration: 900\n",
            "cost: 1.3302079007955936, iteration: 1000\n",
            "cost: 1.3063324185682155, iteration: 1100\n",
            "cost: 1.2830059750104952, iteration: 1200\n",
            "cost: 1.2602090970032374, iteration: 1300\n",
            "cost: 1.2379267811598074, iteration: 1400\n",
            "cost: 1.2161461156225197, iteration: 1500\n",
            "cost: 1.1948552419941891, iteration: 1600\n",
            "cost: 1.174042900445439, iteration: 1700\n",
            "cost: 1.1536982286380433, iteration: 1800\n",
            "Stopping early at iteration 1826\n",
            "Newton's:\n",
            "Iteration 0, Cost: 1.1309721653798406\n",
            "Iteration 1, Cost: 1.1138089049492663\n",
            "Iteration 100, Cost: 0.3840509403254005\n",
            "Iteration 200, Cost: 0.2839786774480961\n",
            "Iteration 300, Cost: 0.2705710282054944\n",
            "Iteration 400, Cost: 0.2687746757193611\n",
            "Iteration 500, Cost: 0.2685340009973386\n",
            "Iteration 600, Cost: 0.2685017554763355\n",
            "Iteration 700, Cost: 0.268497435231916\n",
            "Iteration 800, Cost: 0.2684968564069732\n",
            "Iteration 900, Cost: 0.2684967788561955\n",
            "Stopping early at iteration 904, Step size: 0.000997, cost: 0.26849677792931187\n",
            "final theta!  ['-10.48', '0.28', '0.49']\n"
          ]
        },
        {
          "output_type": "display_data",
          "data": {
            "text/plain": [
              "<Figure size 800x500 with 1 Axes>"
            ],
            "image/png": "[encoded data removed]"
          },
          "metadata": {}
        },
        {
          "output_type": "stream",
          "name": "stdout",
          "text": [
            "\n",
            "Random Examples for Comparison:\n",
            "Example 4:\n",
            "Features (including intercept): [ 1. 30. 38.]\n",
            "Actual value: 16\n",
            "Predicted value: 16.57397720104388\n",
            "\n",
            "Example 2:\n",
            "Features (including intercept): [ 1. 18. 27.]\n",
            "Actual value: 5\n",
            "Predicted value: 7.824545746792452\n",
            "\n",
            "Example 3:\n",
            "Features (including intercept): [ 1. 21. 34.]\n",
            "Actual value: 14\n",
            "Predicted value: 12.109704441606157\n",
            "\n"
          ]
        }
      ]
    }
  ]
}